{
 "cells": [
  {
   "cell_type": "markdown",
   "metadata": {},
   "source": [
    "# Generating Graph Data from Gemini "
   ]
  },
  {
   "cell_type": "markdown",
   "metadata": {},
   "source": [
    "In this notebook we will use Google Gemini Pro and LangChain to:\n",
    "* Generate topics about Neo4j, Graph Data Science, and Graph Theory  \n",
    "* Generate questions and answer pairs about these topcis \n",
    "* Expand the question and answer pairs to produce additional questions that could have resulted in each answer (response)\n",
    "\n",
    "This workflow will enable us to generate a large number of questions and answers that can be used to train a model to generate prompts from answers. The data can also be used as an evaluation data set for RAG applications. \n"
   ]
  },
  {
   "cell_type": "markdown",
   "metadata": {},
   "source": [
    "## Load Libraries"
   ]
  },
  {
   "cell_type": "code",
   "execution_count": 1,
   "metadata": {},
   "outputs": [],
   "source": [
    "import numpy as np\n",
    "import pandas as pd\n",
    "pd.set_option('display.max_columns', None)\n",
    "pd.set_option('display.max_rows', None)\n",
    "pd.set_option('display.max_colwidth', None)"
   ]
  },
  {
   "cell_type": "code",
   "execution_count": 2,
   "metadata": {},
   "outputs": [],
   "source": [
    "from IPython.display import display, Markdown\n",
    "\n",
    "def print_md(string):\n",
    "    display(Markdown(string))\n"
   ]
  },
  {
   "cell_type": "code",
   "execution_count": 3,
   "metadata": {},
   "outputs": [],
   "source": [
    "# to read .env file \n",
    "# !pip install python-dotenv\n",
    "\n",
    "import os\n",
    "from dotenv import load_dotenv\n",
    "\n"
   ]
  },
  {
   "cell_type": "code",
   "execution_count": 5,
   "metadata": {},
   "outputs": [],
   "source": [
    "# !pip install --upgrade --quiet langchain \n",
    "import langchain\n",
    "\n",
    "# !pip install --upgrade --quiet  langchain-google-genai\n",
    "import langchain_google_genai\n",
    "from langchain_google_genai import ChatGoogleGenerativeAI\n",
    "from langchain.prompts import PromptTemplate\n",
    "\n",
    "from langchain_core.output_parsers import StrOutputParser\n",
    "\n",
    "from langchain.prompts import PromptTemplate\n",
    "from langchain_core.output_parsers import JsonOutputParser\n",
    "from langchain_core.pydantic_v1 import BaseModel, Field\n",
    "from typing import List\n"
   ]
  },
  {
   "cell_type": "code",
   "execution_count": 4,
   "metadata": {},
   "outputs": [],
   "source": [
    "import warnings\n",
    "warnings.filterwarnings('ignore')"
   ]
  },
  {
   "cell_type": "markdown",
   "metadata": {},
   "source": [
    "## Instantiate LangChain for Gemini \n",
    "We will use LangChain's [GCP integration](https://python.langchain.com/docs/integrations/chat/google_generative_ai/) so that we can leverage prompt templates and easily swap out models if necessary. "
   ]
  },
  {
   "cell_type": "code",
   "execution_count": 6,
   "metadata": {},
   "outputs": [],
   "source": [
    "# read API key from local .env \n",
    "load_dotenv()\n",
    "if \"GOOGLE_API_KEY\" not in os.environ:\n",
    "    os.environ[\"GOOGLE_API_KEY\"] = os.getenv('GEMINI_API_KEY')"
   ]
  },
  {
   "cell_type": "code",
   "execution_count": 7,
   "metadata": {},
   "outputs": [
    {
     "data": {
      "text/markdown": [
       "Jupiter's largest moon is **Ganymede**. It's not only the largest moon of Jupiter but also the largest moon in our entire solar system! \n",
       "\n",
       "Here's how it compares to Earth:\n",
       "\n",
       "*   **Diameter:** Ganymede has a diameter of about 5,268 kilometers (3,273 miles), making it roughly 26% larger than the Earth's Moon and even bigger than the planet Mercury! \n",
       "*   **Mass:** Despite its size, Ganymede is less dense than Earth, resulting in it having only about half the mass of our Moon. \n"
      ],
      "text/plain": [
       "<IPython.core.display.Markdown object>"
      ]
     },
     "metadata": {},
     "output_type": "display_data"
    }
   ],
   "source": [
    "# instantiate Gemini via LangChain \n",
    "llm = ChatGoogleGenerativeAI(model=\"gemini-1.5-pro-latest\", convert_system_message_to_human=True)\n",
    "\n",
    "# run test query to confirm setup \n",
    "prompt = '''What is Jupiter's largest moon? How does its size compare to the size of Earth?'''\n",
    "result = llm.invoke(prompt)\n",
    "print_md(result.content)"
   ]
  },
  {
   "cell_type": "markdown",
   "metadata": {},
   "source": [
    "LangChain's [ChatPromptTemplate](https://python.langchain.com/docs/modules/model_io/prompts/quick_start/#chatprompttemplate) allows us to provide general instructions to the LLM which can then be augmented by a user message. "
   ]
  },
  {
   "cell_type": "code",
   "execution_count": 8,
   "metadata": {},
   "outputs": [],
   "source": [
    "# instantiate the Chat Template \n",
    "from langchain_core.prompts import ChatPromptTemplate\n",
    "\n",
    "# create the prompt template with Neo4j expertise \n",
    "neo4j_prompt = ChatPromptTemplate.from_messages([\n",
    "    (\"system\", \"You are a helpful expert skilled and knowledgeable about Neo4j databases, Graph Data Science, knowledge graphs, and graph theory.\"), \n",
    "    (\"user\", \"{input}\")\n",
    "])"
   ]
  },
  {
   "cell_type": "markdown",
   "metadata": {},
   "source": [
    "## Generate Question Topics\n",
    "Next we will ask the LLM to generate topics about Neo4j, Graph Data Science, and Graph Theory. These topics will be the categories we use next to generate question and answer pairs. \n",
    "\n",
    "While we could specify these ourselves, the LLM may recommend additional topics that we may not have considered. As with most LLM applicaitons, a combination of human and LLM is often ideal."
   ]
  },
  {
   "cell_type": "code",
   "execution_count": 15,
   "metadata": {},
   "outputs": [
    {
     "data": {
      "text/plain": [
       "StringPromptValue(text='I want you to help me generate 5 concise topics about Neo4j, Graph Data Science, knowledge graphs, and graph theory. These topics will represent categories of question and answer pairs that I use to evaluate an AI system. These should represent the most important concepts developers new to Neo4j need to know about. Return only the recommended topics and no other information. Return the topics as concise strings in an un-numbered comma separated list that I can extract into a Python list')"
      ]
     },
     "execution_count": 15,
     "metadata": {},
     "output_type": "execute_result"
    }
   ],
   "source": [
    "# number of topics as a variable \n",
    "num_topics = 5\n",
    "\n",
    "# create template \n",
    "topic_prompt_template = PromptTemplate.from_template(\"I want you to help me generate {num_topics} concise topics about Neo4j, Graph Data Science, knowledge graphs, and graph theory. These topics will represent categories of question and answer pairs that I use to evaluate an AI system. These should represent the most important concepts developers new to Neo4j need to know about. Return only the recommended topics and no other information. Return the topics as concise strings in an un-numbered comma separated list that I can extract into a Python list\")\n",
    "\n",
    "topic_prompt_template.invoke({'num_topics': num_topics} )"
   ]
  },
  {
   "cell_type": "markdown",
   "metadata": {},
   "source": [
    "The LangChain [StrOutputParser](https://api.python.langchain.com/en/latest/output_parsers/langchain_core.output_parsers.string.StrOutputParser.html) provides us with a string that we can easily parse into a Python List."
   ]
  },
  {
   "cell_type": "code",
   "execution_count": null,
   "metadata": {},
   "outputs": [],
   "source": [
    "# parser to convert output to string \n",
    "output_parser = StrOutputParser()"
   ]
  },
  {
   "cell_type": "markdown",
   "metadata": {},
   "source": [
    "We combine the neo4j prompt, llm, and output parser into a single chain using LangChain Expression language and pass it the topic-generation prompt template."
   ]
  },
  {
   "cell_type": "code",
   "execution_count": 16,
   "metadata": {},
   "outputs": [],
   "source": [
    "\n",
    "\n",
    "# response = llm.invoke(prompt_template.content)\n",
    "chain = neo4j_prompt | llm | output_parser\n",
    "\n",
    "topic_response = chain.invoke({\"input\": topic_prompt_template})\n",
    "\n"
   ]
  },
  {
   "cell_type": "markdown",
   "metadata": {},
   "source": [
    "Once we have the results, we parse them into a Python List to use going forwward. "
   ]
  },
  {
   "cell_type": "code",
   "execution_count": 18,
   "metadata": {},
   "outputs": [
    {
     "data": {
      "text/plain": [
       "['Centrality and community detection algorithms',\n",
       " 'Cypher query language',\n",
       " 'Graph data modeling',\n",
       " 'Graph traversal algorithms',\n",
       " 'Knowledge graph applications']"
      ]
     },
     "execution_count": 18,
     "metadata": {},
     "output_type": "execute_result"
    }
   ],
   "source": [
    "# convert response into a python list\n",
    "neo4j_topic_list = topic_response.split(',')\n",
    "\n",
    "# trim whitespace \n",
    "neo4j_topic_list = sorted([topic.strip() for topic in neo4j_topic_list])\n",
    "neo4j_topic_list"
   ]
  },
  {
   "cell_type": "markdown",
   "metadata": {},
   "source": [
    "Overall, these are good topics to start with. However, if we were building a larger testing data set we likely would want 10 or 20 total topics. We could also manually add additional topics in case the LLM misses any we thing are important. Again, the combination of human and LLM is often ideal."
   ]
  },
  {
   "cell_type": "markdown",
   "metadata": {},
   "source": [
    "## Generate Questions from Prompts\n",
    "Once we have categories, we will use them to generate question and answer pairs. However, to do so we will use a different prompt template to generate the question and answer pairs in a JSON output. "
   ]
  },
  {
   "cell_type": "code",
   "execution_count": 20,
   "metadata": {},
   "outputs": [],
   "source": [
    "# Define the question and answer data structure\n",
    "class QuestionAnswer(BaseModel):\n",
    "    question: str = Field(description=\"question\")\n",
    "    answer: str = Field(description=\"answer\")\n",
    "\n",
    "\n",
    "# instantiate the JSON Output Parser which leverages pydantic \n",
    "parser = JsonOutputParser(pydantic_object=QuestionAnswer)\n"
   ]
  },
  {
   "cell_type": "markdown",
   "metadata": {},
   "source": [
    "In the following process we will just use the first topic from the generated list. In future iterations we will automate the entire process so that we generate Q&A pairs for all topics."
   ]
  },
  {
   "cell_type": "code",
   "execution_count": 21,
   "metadata": {},
   "outputs": [
    {
     "data": {
      "text/plain": [
       "'Centrality and community detection algorithms'"
      ]
     },
     "execution_count": 21,
     "metadata": {},
     "output_type": "execute_result"
    }
   ],
   "source": [
    "# select  topic from the list \n",
    "neo4j_topic = neo4j_topic_list[0]\n",
    "neo4j_topic"
   ]
  },
  {
   "cell_type": "code",
   "execution_count": 22,
   "metadata": {},
   "outputs": [
    {
     "name": "stdout",
     "output_type": "stream",
     "text": [
      "I want you to generate 5 question and answer pairs about the the following topic as it relates to Neo4j, graph databases, and graph data science. The topic is: Centrality and community detection algorithms. The question should be a single sentence. The answer should be no more than two quesitons. Each question and answer pair must be uniuque. Each quesiton and answer pair should be focused on general concepts about the topic and be appropriate for a developer new to Neo4j.\n"
     ]
    }
   ],
   "source": [
    "# specify the number of Q&A pairs to generate \n",
    "n_qa_pairs = 5\n",
    "\n",
    "# define the prompt \n",
    "qa_query = f\"I want you to generate {n_qa_pairs} question and answer pairs about the the following topic as it relates to Neo4j, graph databases, and graph data science. The topic is: {neo4j_topic}. The question should be a single sentence. The answer should be no more than two quesitons. Each question and answer pair must be uniuque. Each quesiton and answer pair should be focused on general concepts about the topic and be appropriate for a developer new to Neo4j.\"\n",
    "\n",
    "print(qa_query)"
   ]
  },
  {
   "cell_type": "code",
   "execution_count": 23,
   "metadata": {},
   "outputs": [],
   "source": [
    "# combine elements of the prompt \n",
    "qa_prompt = PromptTemplate(\n",
    "    template=\"Answer the query according to the format instructions.\\n{qa_query}\\n{format_instructions}\",\n",
    "    input_variables=[\"qa_query\"],\n",
    "    partial_variables={\"format_instructions\": parser.get_format_instructions()},\n",
    ")\n",
    "\n",
    "# combine the prompt, llm, and parser into a chain \n",
    "qa_gen_chain = qa_prompt | llm | parser\n"
   ]
  },
  {
   "cell_type": "code",
   "execution_count": 24,
   "metadata": {},
   "outputs": [
    {
     "data": {
      "text/plain": [
       "[{'question': 'What is a centrality algorithm and how does it work in Neo4j?',\n",
       "  'answer': 'Centrality algorithms identify the most important or influential nodes in a graph. Neo4j provides algorithms like PageRank and Degree Centrality to measure node importance based on connections and relationships.'},\n",
       " {'question': 'How is community detection used in graph analysis with Neo4j?',\n",
       "  'answer': 'Community detection algorithms identify clusters or groups of nodes that are densely connected within the graph. Neo4j offers algorithms like Louvain Modularity and Label Propagation for discovering communities and understanding their structure.'},\n",
       " {'question': 'What are some practical applications of centrality algorithms in Neo4j?',\n",
       "  'answer': 'Centrality algorithms can be used for various tasks, such as identifying key influencers in a social network, finding critical infrastructure components in a network, or detecting fraudulent activities in financial transactions.'},\n",
       " {'question': 'How can community detection algorithms benefit recommendation systems built with Neo4j?',\n",
       "  'answer': 'By identifying communities of users with similar interests or preferences, recommendation systems can provide more relevant and personalized suggestions, improving user experience and engagement.'},\n",
       " {'question': 'What are the differences between local and global centrality algorithms in Neo4j?',\n",
       "  'answer': 'Local centrality measures the importance of a node within its immediate neighborhood, while global centrality considers the overall network structure. Neo4j offers both types of algorithms, such as Degree Centrality (local) and PageRank (global), allowing you to choose the appropriate measure based on your analysis goals.'}]"
      ]
     },
     "execution_count": 24,
     "metadata": {},
     "output_type": "execute_result"
    }
   ],
   "source": [
    "# invoke the chain \n",
    "qa_response = qa_gen_chain.invoke({\"qa_query\": qa_query})\n",
    "\n",
    "# view the Q&A pairs in the output \n",
    "qa_response"
   ]
  },
  {
   "cell_type": "markdown",
   "metadata": {},
   "source": [
    "## Convert Q&A Pairs to DataFrame \n",
    "For ease of reading and manipulation, we will convert the JSON output to a pandas DataFrame. This will also easily enable us to aggregate the Q&A pairs and additional prompts, then output the entire data set to a CSV file."
   ]
  },
  {
   "cell_type": "code",
   "execution_count": 25,
   "metadata": {},
   "outputs": [
    {
     "data": {
      "text/plain": [
       "(5, 3)"
      ]
     },
     "execution_count": 25,
     "metadata": {},
     "output_type": "execute_result"
    }
   ],
   "source": [
    "# convert pairs to a dataframe \n",
    "llm_pairs = pd.DataFrame(qa_response)\n",
    "\n",
    "# add the category\n",
    "llm_pairs['category'] = neo4j_topic\n",
    "llm_pairs.shape"
   ]
  },
  {
   "cell_type": "code",
   "execution_count": 26,
   "metadata": {},
   "outputs": [
    {
     "data": {
      "text/html": [
       "<div>\n",
       "<style scoped>\n",
       "    .dataframe tbody tr th:only-of-type {\n",
       "        vertical-align: middle;\n",
       "    }\n",
       "\n",
       "    .dataframe tbody tr th {\n",
       "        vertical-align: top;\n",
       "    }\n",
       "\n",
       "    .dataframe thead th {\n",
       "        text-align: right;\n",
       "    }\n",
       "</style>\n",
       "<table border=\"1\" class=\"dataframe\">\n",
       "  <thead>\n",
       "    <tr style=\"text-align: right;\">\n",
       "      <th></th>\n",
       "      <th>question</th>\n",
       "      <th>answer</th>\n",
       "      <th>category</th>\n",
       "    </tr>\n",
       "  </thead>\n",
       "  <tbody>\n",
       "    <tr>\n",
       "      <th>0</th>\n",
       "      <td>What is a centrality algorithm and how does it work in Neo4j?</td>\n",
       "      <td>Centrality algorithms identify the most important or influential nodes in a graph. Neo4j provides algorithms like PageRank and Degree Centrality to measure node importance based on connections and relationships.</td>\n",
       "      <td>Centrality and community detection algorithms</td>\n",
       "    </tr>\n",
       "    <tr>\n",
       "      <th>1</th>\n",
       "      <td>How is community detection used in graph analysis with Neo4j?</td>\n",
       "      <td>Community detection algorithms identify clusters or groups of nodes that are densely connected within the graph. Neo4j offers algorithms like Louvain Modularity and Label Propagation for discovering communities and understanding their structure.</td>\n",
       "      <td>Centrality and community detection algorithms</td>\n",
       "    </tr>\n",
       "    <tr>\n",
       "      <th>2</th>\n",
       "      <td>What are some practical applications of centrality algorithms in Neo4j?</td>\n",
       "      <td>Centrality algorithms can be used for various tasks, such as identifying key influencers in a social network, finding critical infrastructure components in a network, or detecting fraudulent activities in financial transactions.</td>\n",
       "      <td>Centrality and community detection algorithms</td>\n",
       "    </tr>\n",
       "    <tr>\n",
       "      <th>3</th>\n",
       "      <td>How can community detection algorithms benefit recommendation systems built with Neo4j?</td>\n",
       "      <td>By identifying communities of users with similar interests or preferences, recommendation systems can provide more relevant and personalized suggestions, improving user experience and engagement.</td>\n",
       "      <td>Centrality and community detection algorithms</td>\n",
       "    </tr>\n",
       "    <tr>\n",
       "      <th>4</th>\n",
       "      <td>What are the differences between local and global centrality algorithms in Neo4j?</td>\n",
       "      <td>Local centrality measures the importance of a node within its immediate neighborhood, while global centrality considers the overall network structure. Neo4j offers both types of algorithms, such as Degree Centrality (local) and PageRank (global), allowing you to choose the appropriate measure based on your analysis goals.</td>\n",
       "      <td>Centrality and community detection algorithms</td>\n",
       "    </tr>\n",
       "  </tbody>\n",
       "</table>\n",
       "</div>"
      ],
      "text/plain": [
       "                                                                                  question  \\\n",
       "0                            What is a centrality algorithm and how does it work in Neo4j?   \n",
       "1                            How is community detection used in graph analysis with Neo4j?   \n",
       "2                  What are some practical applications of centrality algorithms in Neo4j?   \n",
       "3  How can community detection algorithms benefit recommendation systems built with Neo4j?   \n",
       "4        What are the differences between local and global centrality algorithms in Neo4j?   \n",
       "\n",
       "                                                                                                                                                                                                                                                                                                                                answer  \\\n",
       "0                                                                                                                  Centrality algorithms identify the most important or influential nodes in a graph. Neo4j provides algorithms like PageRank and Degree Centrality to measure node importance based on connections and relationships.   \n",
       "1                                                                                Community detection algorithms identify clusters or groups of nodes that are densely connected within the graph. Neo4j offers algorithms like Louvain Modularity and Label Propagation for discovering communities and understanding their structure.   \n",
       "2                                                                                                 Centrality algorithms can be used for various tasks, such as identifying key influencers in a social network, finding critical infrastructure components in a network, or detecting fraudulent activities in financial transactions.   \n",
       "3                                                                                                                                  By identifying communities of users with similar interests or preferences, recommendation systems can provide more relevant and personalized suggestions, improving user experience and engagement.   \n",
       "4  Local centrality measures the importance of a node within its immediate neighborhood, while global centrality considers the overall network structure. Neo4j offers both types of algorithms, such as Degree Centrality (local) and PageRank (global), allowing you to choose the appropriate measure based on your analysis goals.   \n",
       "\n",
       "                                        category  \n",
       "0  Centrality and community detection algorithms  \n",
       "1  Centrality and community detection algorithms  \n",
       "2  Centrality and community detection algorithms  \n",
       "3  Centrality and community detection algorithms  \n",
       "4  Centrality and community detection algorithms  "
      ]
     },
     "execution_count": 26,
     "metadata": {},
     "output_type": "execute_result"
    }
   ],
   "source": [
    "# view the dataframe \n",
    "llm_pairs"
   ]
  },
  {
   "cell_type": "markdown",
   "metadata": {},
   "source": [
    "## Generate Additional Prompts from Q&A Pairs\n",
    "As part of the Kaggle competition, we are asked to generate additional prompts that could have resulted in the answer. Therefore, we will take one of the above responses and ask the LLM to generate five additional prompts that could have produced the response."
   ]
  },
  {
   "cell_type": "code",
   "execution_count": 28,
   "metadata": {},
   "outputs": [],
   "source": [
    "# specify the number of Q&A pairs to generate \n",
    "n_prompts = 5\n",
    "\n",
    "# parse out the questions and answers as variables \n",
    "llm_response = qa_response[0]['answer']\n",
    "llm_question = qa_response[0]['question']"
   ]
  },
  {
   "cell_type": "code",
   "execution_count": 54,
   "metadata": {},
   "outputs": [
    {
     "name": "stdout",
     "output_type": "stream",
     "text": [
      "Question: What is a centrality algorithm and how does it work in Neo4j?\n",
      "Answer: Centrality algorithms identify the most important or influential nodes in a graph. Neo4j provides algorithms like PageRank and Degree Centrality to measure node importance based on connections and relationships.\n"
     ]
    }
   ],
   "source": [
    "print('Question:',llm_question)\n",
    "print('Answer:',llm_response)"
   ]
  },
  {
   "cell_type": "code",
   "execution_count": 36,
   "metadata": {},
   "outputs": [
    {
     "data": {
      "text/plain": [
       "\"Your first task is to read the following response about Centrality and community detection algorithms. The response is: 'Centrality algorithms identify the most important or influential nodes in a graph. Neo4j provides algorithms like PageRank and Degree Centrality to measure node importance based on connections and relationships.' \\n Next, I want you to generate 5 questions that you have high confidence that when asked could have resulted in given response.  The following is an example of a question that could have generated the response: 'What is a centrality algorithm and how does it work in Neo4j?' Do not return this question, return only new questions. Each question you return must be unique. Return only the questions and no other information. Return the 5 quesitons as an un-numbered comma separated list I can extract into a Python list\""
      ]
     },
     "execution_count": 36,
     "metadata": {},
     "output_type": "execute_result"
    }
   ],
   "source": [
    "# generate a new prompt \n",
    "question_prompt = f\"Your first task is to read the following response about {neo4j_topic}. The response is: '{llm_response}' \\n Next, I want you to generate {n_prompts} questions that you have high confidence that when asked could have resulted in given response.  The following is an example of a question that could have generated the response: '{llm_question}' Do not return this question, return only new questions. Each question you return must be unique. Return only the questions and no other information. Return the {n_prompts} quesitons as an un-numbered comma separated list I can extract into a Python list\"\n",
    "\n",
    "question_prompt"
   ]
  },
  {
   "cell_type": "code",
   "execution_count": 40,
   "metadata": {},
   "outputs": [],
   "source": [
    "# parser to convert output to string \n",
    "output_parser = StrOutputParser()\n",
    "\n",
    "# response = llm.invoke(prompt_template.content)\n",
    "chain = neo4j_prompt | llm | output_parser\n",
    "\n",
    "# invoke the chain\n",
    "question_response = chain.invoke({\"input\": question_prompt})\n"
   ]
  },
  {
   "cell_type": "code",
   "execution_count": 42,
   "metadata": {},
   "outputs": [
    {
     "data": {
      "text/plain": [
       "['Can you explain how Neo4j helps in understanding node importance through its algorithms?',\n",
       " 'How can I identify influential entities within a connected dataset using Neo4j?',\n",
       " 'How does Neo4j leverage graph structure to assess the influence or centrality of nodes?',\n",
       " 'What algorithms does Neo4j offer for analyzing the significance of nodes in a graph?',\n",
       " 'What are some methods for determining important nodes in a graph database like Neo4j?']"
      ]
     },
     "execution_count": 42,
     "metadata": {},
     "output_type": "execute_result"
    }
   ],
   "source": [
    "# convert response into a python list\n",
    "additional_prompts = question_response.split(',')\n",
    "\n",
    "# strip excess whitespace \n",
    "additional_prompts = sorted([q.strip() for q in additional_prompts])\n",
    "additional_prompts"
   ]
  },
  {
   "cell_type": "code",
   "execution_count": 47,
   "metadata": {},
   "outputs": [
    {
     "data": {
      "text/plain": [
       "(5, 3)"
      ]
     },
     "execution_count": 47,
     "metadata": {},
     "output_type": "execute_result"
    }
   ],
   "source": [
    "# convert new questions to a temporary dataframe \n",
    "question_df = pd.DataFrame(additional_prompts, columns=['question'])\n",
    "\n",
    "# append the answers and categories \n",
    "question_df['answer'] = llm_response\n",
    "question_df['category'] = neo4j_topic\n",
    "question_df.shape"
   ]
  },
  {
   "cell_type": "code",
   "execution_count": 48,
   "metadata": {},
   "outputs": [
    {
     "data": {
      "text/html": [
       "<div>\n",
       "<style scoped>\n",
       "    .dataframe tbody tr th:only-of-type {\n",
       "        vertical-align: middle;\n",
       "    }\n",
       "\n",
       "    .dataframe tbody tr th {\n",
       "        vertical-align: top;\n",
       "    }\n",
       "\n",
       "    .dataframe thead th {\n",
       "        text-align: right;\n",
       "    }\n",
       "</style>\n",
       "<table border=\"1\" class=\"dataframe\">\n",
       "  <thead>\n",
       "    <tr style=\"text-align: right;\">\n",
       "      <th></th>\n",
       "      <th>question</th>\n",
       "      <th>answer</th>\n",
       "      <th>category</th>\n",
       "    </tr>\n",
       "  </thead>\n",
       "  <tbody>\n",
       "    <tr>\n",
       "      <th>0</th>\n",
       "      <td>Can you explain how Neo4j helps in understanding node importance through its algorithms?</td>\n",
       "      <td>Centrality algorithms identify the most important or influential nodes in a graph. Neo4j provides algorithms like PageRank and Degree Centrality to measure node importance based on connections and relationships.</td>\n",
       "      <td>Centrality and community detection algorithms</td>\n",
       "    </tr>\n",
       "    <tr>\n",
       "      <th>1</th>\n",
       "      <td>How can I identify influential entities within a connected dataset using Neo4j?</td>\n",
       "      <td>Centrality algorithms identify the most important or influential nodes in a graph. Neo4j provides algorithms like PageRank and Degree Centrality to measure node importance based on connections and relationships.</td>\n",
       "      <td>Centrality and community detection algorithms</td>\n",
       "    </tr>\n",
       "    <tr>\n",
       "      <th>2</th>\n",
       "      <td>How does Neo4j leverage graph structure to assess the influence or centrality of nodes?</td>\n",
       "      <td>Centrality algorithms identify the most important or influential nodes in a graph. Neo4j provides algorithms like PageRank and Degree Centrality to measure node importance based on connections and relationships.</td>\n",
       "      <td>Centrality and community detection algorithms</td>\n",
       "    </tr>\n",
       "    <tr>\n",
       "      <th>3</th>\n",
       "      <td>What algorithms does Neo4j offer for analyzing the significance of nodes in a graph?</td>\n",
       "      <td>Centrality algorithms identify the most important or influential nodes in a graph. Neo4j provides algorithms like PageRank and Degree Centrality to measure node importance based on connections and relationships.</td>\n",
       "      <td>Centrality and community detection algorithms</td>\n",
       "    </tr>\n",
       "    <tr>\n",
       "      <th>4</th>\n",
       "      <td>What are some methods for determining important nodes in a graph database like Neo4j?</td>\n",
       "      <td>Centrality algorithms identify the most important or influential nodes in a graph. Neo4j provides algorithms like PageRank and Degree Centrality to measure node importance based on connections and relationships.</td>\n",
       "      <td>Centrality and community detection algorithms</td>\n",
       "    </tr>\n",
       "  </tbody>\n",
       "</table>\n",
       "</div>"
      ],
      "text/plain": [
       "                                                                                   question  \\\n",
       "0  Can you explain how Neo4j helps in understanding node importance through its algorithms?   \n",
       "1           How can I identify influential entities within a connected dataset using Neo4j?   \n",
       "2   How does Neo4j leverage graph structure to assess the influence or centrality of nodes?   \n",
       "3      What algorithms does Neo4j offer for analyzing the significance of nodes in a graph?   \n",
       "4     What are some methods for determining important nodes in a graph database like Neo4j?   \n",
       "\n",
       "                                                                                                                                                                                                                answer  \\\n",
       "0  Centrality algorithms identify the most important or influential nodes in a graph. Neo4j provides algorithms like PageRank and Degree Centrality to measure node importance based on connections and relationships.   \n",
       "1  Centrality algorithms identify the most important or influential nodes in a graph. Neo4j provides algorithms like PageRank and Degree Centrality to measure node importance based on connections and relationships.   \n",
       "2  Centrality algorithms identify the most important or influential nodes in a graph. Neo4j provides algorithms like PageRank and Degree Centrality to measure node importance based on connections and relationships.   \n",
       "3  Centrality algorithms identify the most important or influential nodes in a graph. Neo4j provides algorithms like PageRank and Degree Centrality to measure node importance based on connections and relationships.   \n",
       "4  Centrality algorithms identify the most important or influential nodes in a graph. Neo4j provides algorithms like PageRank and Degree Centrality to measure node importance based on connections and relationships.   \n",
       "\n",
       "                                        category  \n",
       "0  Centrality and community detection algorithms  \n",
       "1  Centrality and community detection algorithms  \n",
       "2  Centrality and community detection algorithms  \n",
       "3  Centrality and community detection algorithms  \n",
       "4  Centrality and community detection algorithms  "
      ]
     },
     "execution_count": 48,
     "metadata": {},
     "output_type": "execute_result"
    }
   ],
   "source": [
    "question_df"
   ]
  },
  {
   "cell_type": "code",
   "execution_count": 49,
   "metadata": {},
   "outputs": [
    {
     "data": {
      "text/plain": [
       "(10, 3)"
      ]
     },
     "execution_count": 49,
     "metadata": {},
     "output_type": "execute_result"
    }
   ],
   "source": [
    "# merge question_df with llm_pairs\n",
    "llm_pairs = pd.concat([llm_pairs, question_df], axis=0)\n",
    "llm_pairs.shape"
   ]
  },
  {
   "cell_type": "code",
   "execution_count": 52,
   "metadata": {},
   "outputs": [
    {
     "data": {
      "text/html": [
       "<div>\n",
       "<style scoped>\n",
       "    .dataframe tbody tr th:only-of-type {\n",
       "        vertical-align: middle;\n",
       "    }\n",
       "\n",
       "    .dataframe tbody tr th {\n",
       "        vertical-align: top;\n",
       "    }\n",
       "\n",
       "    .dataframe thead th {\n",
       "        text-align: right;\n",
       "    }\n",
       "</style>\n",
       "<table border=\"1\" class=\"dataframe\">\n",
       "  <thead>\n",
       "    <tr style=\"text-align: right;\">\n",
       "      <th></th>\n",
       "      <th>question</th>\n",
       "      <th>answer</th>\n",
       "      <th>category</th>\n",
       "    </tr>\n",
       "  </thead>\n",
       "  <tbody>\n",
       "    <tr>\n",
       "      <th>0</th>\n",
       "      <td>What is a centrality algorithm and how does it work in Neo4j?</td>\n",
       "      <td>Centrality algorithms identify the most important or influential nodes in a graph. Neo4j provides algorithms like PageRank and Degree Centrality to measure node importance based on connections and relationships.</td>\n",
       "      <td>Centrality and community detection algorithms</td>\n",
       "    </tr>\n",
       "    <tr>\n",
       "      <th>1</th>\n",
       "      <td>How is community detection used in graph analysis with Neo4j?</td>\n",
       "      <td>Community detection algorithms identify clusters or groups of nodes that are densely connected within the graph. Neo4j offers algorithms like Louvain Modularity and Label Propagation for discovering communities and understanding their structure.</td>\n",
       "      <td>Centrality and community detection algorithms</td>\n",
       "    </tr>\n",
       "    <tr>\n",
       "      <th>2</th>\n",
       "      <td>What are some practical applications of centrality algorithms in Neo4j?</td>\n",
       "      <td>Centrality algorithms can be used for various tasks, such as identifying key influencers in a social network, finding critical infrastructure components in a network, or detecting fraudulent activities in financial transactions.</td>\n",
       "      <td>Centrality and community detection algorithms</td>\n",
       "    </tr>\n",
       "    <tr>\n",
       "      <th>3</th>\n",
       "      <td>How can community detection algorithms benefit recommendation systems built with Neo4j?</td>\n",
       "      <td>By identifying communities of users with similar interests or preferences, recommendation systems can provide more relevant and personalized suggestions, improving user experience and engagement.</td>\n",
       "      <td>Centrality and community detection algorithms</td>\n",
       "    </tr>\n",
       "    <tr>\n",
       "      <th>4</th>\n",
       "      <td>What are the differences between local and global centrality algorithms in Neo4j?</td>\n",
       "      <td>Local centrality measures the importance of a node within its immediate neighborhood, while global centrality considers the overall network structure. Neo4j offers both types of algorithms, such as Degree Centrality (local) and PageRank (global), allowing you to choose the appropriate measure based on your analysis goals.</td>\n",
       "      <td>Centrality and community detection algorithms</td>\n",
       "    </tr>\n",
       "    <tr>\n",
       "      <th>0</th>\n",
       "      <td>Can you explain how Neo4j helps in understanding node importance through its algorithms?</td>\n",
       "      <td>Centrality algorithms identify the most important or influential nodes in a graph. Neo4j provides algorithms like PageRank and Degree Centrality to measure node importance based on connections and relationships.</td>\n",
       "      <td>Centrality and community detection algorithms</td>\n",
       "    </tr>\n",
       "    <tr>\n",
       "      <th>1</th>\n",
       "      <td>How can I identify influential entities within a connected dataset using Neo4j?</td>\n",
       "      <td>Centrality algorithms identify the most important or influential nodes in a graph. Neo4j provides algorithms like PageRank and Degree Centrality to measure node importance based on connections and relationships.</td>\n",
       "      <td>Centrality and community detection algorithms</td>\n",
       "    </tr>\n",
       "    <tr>\n",
       "      <th>2</th>\n",
       "      <td>How does Neo4j leverage graph structure to assess the influence or centrality of nodes?</td>\n",
       "      <td>Centrality algorithms identify the most important or influential nodes in a graph. Neo4j provides algorithms like PageRank and Degree Centrality to measure node importance based on connections and relationships.</td>\n",
       "      <td>Centrality and community detection algorithms</td>\n",
       "    </tr>\n",
       "    <tr>\n",
       "      <th>3</th>\n",
       "      <td>What algorithms does Neo4j offer for analyzing the significance of nodes in a graph?</td>\n",
       "      <td>Centrality algorithms identify the most important or influential nodes in a graph. Neo4j provides algorithms like PageRank and Degree Centrality to measure node importance based on connections and relationships.</td>\n",
       "      <td>Centrality and community detection algorithms</td>\n",
       "    </tr>\n",
       "    <tr>\n",
       "      <th>4</th>\n",
       "      <td>What are some methods for determining important nodes in a graph database like Neo4j?</td>\n",
       "      <td>Centrality algorithms identify the most important or influential nodes in a graph. Neo4j provides algorithms like PageRank and Degree Centrality to measure node importance based on connections and relationships.</td>\n",
       "      <td>Centrality and community detection algorithms</td>\n",
       "    </tr>\n",
       "  </tbody>\n",
       "</table>\n",
       "</div>"
      ],
      "text/plain": [
       "                                                                                   question  \\\n",
       "0                             What is a centrality algorithm and how does it work in Neo4j?   \n",
       "1                             How is community detection used in graph analysis with Neo4j?   \n",
       "2                   What are some practical applications of centrality algorithms in Neo4j?   \n",
       "3   How can community detection algorithms benefit recommendation systems built with Neo4j?   \n",
       "4         What are the differences between local and global centrality algorithms in Neo4j?   \n",
       "0  Can you explain how Neo4j helps in understanding node importance through its algorithms?   \n",
       "1           How can I identify influential entities within a connected dataset using Neo4j?   \n",
       "2   How does Neo4j leverage graph structure to assess the influence or centrality of nodes?   \n",
       "3      What algorithms does Neo4j offer for analyzing the significance of nodes in a graph?   \n",
       "4     What are some methods for determining important nodes in a graph database like Neo4j?   \n",
       "\n",
       "                                                                                                                                                                                                                                                                                                                                answer  \\\n",
       "0                                                                                                                  Centrality algorithms identify the most important or influential nodes in a graph. Neo4j provides algorithms like PageRank and Degree Centrality to measure node importance based on connections and relationships.   \n",
       "1                                                                                Community detection algorithms identify clusters or groups of nodes that are densely connected within the graph. Neo4j offers algorithms like Louvain Modularity and Label Propagation for discovering communities and understanding their structure.   \n",
       "2                                                                                                 Centrality algorithms can be used for various tasks, such as identifying key influencers in a social network, finding critical infrastructure components in a network, or detecting fraudulent activities in financial transactions.   \n",
       "3                                                                                                                                  By identifying communities of users with similar interests or preferences, recommendation systems can provide more relevant and personalized suggestions, improving user experience and engagement.   \n",
       "4  Local centrality measures the importance of a node within its immediate neighborhood, while global centrality considers the overall network structure. Neo4j offers both types of algorithms, such as Degree Centrality (local) and PageRank (global), allowing you to choose the appropriate measure based on your analysis goals.   \n",
       "0                                                                                                                  Centrality algorithms identify the most important or influential nodes in a graph. Neo4j provides algorithms like PageRank and Degree Centrality to measure node importance based on connections and relationships.   \n",
       "1                                                                                                                  Centrality algorithms identify the most important or influential nodes in a graph. Neo4j provides algorithms like PageRank and Degree Centrality to measure node importance based on connections and relationships.   \n",
       "2                                                                                                                  Centrality algorithms identify the most important or influential nodes in a graph. Neo4j provides algorithms like PageRank and Degree Centrality to measure node importance based on connections and relationships.   \n",
       "3                                                                                                                  Centrality algorithms identify the most important or influential nodes in a graph. Neo4j provides algorithms like PageRank and Degree Centrality to measure node importance based on connections and relationships.   \n",
       "4                                                                                                                  Centrality algorithms identify the most important or influential nodes in a graph. Neo4j provides algorithms like PageRank and Degree Centrality to measure node importance based on connections and relationships.   \n",
       "\n",
       "                                        category  \n",
       "0  Centrality and community detection algorithms  \n",
       "1  Centrality and community detection algorithms  \n",
       "2  Centrality and community detection algorithms  \n",
       "3  Centrality and community detection algorithms  \n",
       "4  Centrality and community detection algorithms  \n",
       "0  Centrality and community detection algorithms  \n",
       "1  Centrality and community detection algorithms  \n",
       "2  Centrality and community detection algorithms  \n",
       "3  Centrality and community detection algorithms  \n",
       "4  Centrality and community detection algorithms  "
      ]
     },
     "execution_count": 52,
     "metadata": {},
     "output_type": "execute_result"
    }
   ],
   "source": [
    "llm_pairs"
   ]
  },
  {
   "cell_type": "markdown",
   "metadata": {},
   "source": [
    "## Conclusion \n",
    "In this notebook we demonstrated how to use Google Gemini Pro and Langchain to:\n",
    "* Generate topics about Neo4j, Graph Data Science, and Graph Theory\n",
    "* Generate questions and answer pairs about these topcis\n",
    "* Expand the question and answer pairs to produce additional questions that could have resulted in each answer (response)\n",
    "\n",
    "This workflow will enable us to generate a large number of questions and answers that can be used to train a model to generate prompts from answers. The data can also be used as an evaluation data set for RAG applications.\n",
    "\n",
    "There is more work to do, especially in automating the process to generate Q&A pairs for all topics. However, this notebook provides a good starting point for generating a large data set of questions and answers."
   ]
  },
  {
   "cell_type": "markdown",
   "metadata": {},
   "source": []
  }
 ],
 "metadata": {
  "kernelspec": {
   "display_name": "tfdf",
   "language": "python",
   "name": "python3"
  },
  "language_info": {
   "codemirror_mode": {
    "name": "ipython",
    "version": 3
   },
   "file_extension": ".py",
   "mimetype": "text/x-python",
   "name": "python",
   "nbconvert_exporter": "python",
   "pygments_lexer": "ipython3",
   "version": "3.11.3"
  }
 },
 "nbformat": 4,
 "nbformat_minor": 2
}
