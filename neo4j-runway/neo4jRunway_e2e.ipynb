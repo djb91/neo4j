{
 "cells": [
  {
   "cell_type": "markdown",
   "metadata": {},
   "source": [
    "# Neo4j Runway: End-to-End Graph Creation Example\n",
    "\n"
   ]
  },
  {
   "cell_type": "markdown",
   "metadata": {},
   "source": [
    "## Introduction\n",
    "This notebook demonstrates how to use Neo4j Runway to:\n",
    "* use an LLM to generate a graph data model from a CSV,\n",
    "* generate Cypher code to load the .csv data into a Neo4j Graph Database. \n",
    "\n",
    "Neo4j Runway is an open source library created by my colleague [Alex Gilmore](https://medium.com/@a-gilmore). You can find the [repo here](https://github.com/a-s-g93/neo4j-runway) and a blog describing the library [here](https://medium.com/neo4j/easy-data-ingestion-with-neo4j-runway-and-arrows-app-1e5f121333a7).\n",
    "\n",
    "As you will see in the notebook, all of this is performed **without writing a single line of Cypher.** This demonstrates the promise of using LLMs to faciliate graph generation and graph loading. \n",
    "\n",
    "Additionally, it is important to remember that Neo4j makes it easy to iterate on your graph data model. The goal of Neo4j Runway is to help you get started with something that is close to your final data model so that you can start working with the data as a graph as quickly as possible. We find that many of the finishing touches on a graph data model can only come once you are working with the data in a graph database. Tools like Neo4j runway get you from tabular data to working graph database quickly. \n",
    "\n",
    "*Note: Neo4j Runway is in early stages of development. It is also an open source project and not officially supported by Neo4j.*"
   ]
  },
  {
   "cell_type": "markdown",
   "metadata": {},
   "source": [
    "## Install and Import Libraries\n",
    "\n",
    "*Note: Currently, Neo4j Runway requires that graphviz is installed on your machine. We are exploring alternatives that do not require this step.*"
   ]
  },
  {
   "cell_type": "code",
   "execution_count": 1,
   "metadata": {},
   "outputs": [],
   "source": [
    "import numpy as np\n",
    "import pandas as pd\n",
    "pd.set_option('display.max_columns', None)\n",
    "pd.set_option('display.max_rows', None)\n",
    "pd.set_option('display.max_colwidth', None)"
   ]
  },
  {
   "cell_type": "code",
   "execution_count": 2,
   "metadata": {},
   "outputs": [],
   "source": [
    "# !pip install graphviz --quiet --upgrade\n",
    "# !pip install neo4j_runway --upgrade --quiet\n",
    "from neo4j_runway import Discovery, GraphDataModeler, IngestionGenerator, LLM, PyIngest\n"
   ]
  },
  {
   "cell_type": "code",
   "execution_count": 3,
   "metadata": {},
   "outputs": [],
   "source": [
    "# !pip install python-dotenv --upgrade --quiet\n",
    "from dotenv import load_dotenv\n",
    "\n",
    "import os"
   ]
  },
  {
   "cell_type": "code",
   "execution_count": 4,
   "metadata": {},
   "outputs": [],
   "source": [
    "# function to print markdown\n",
    "from IPython.display import display, Markdown\n",
    "def print_markdown(text):\n",
    "    display(Markdown(text))"
   ]
  },
  {
   "cell_type": "markdown",
   "metadata": {},
   "source": [
    "## Load Environment Variables\n",
    "We will need an OpenAI API key along with the URL and Password for the Neo4j database. These are stored in a local `.env` file."
   ]
  },
  {
   "cell_type": "code",
   "execution_count": null,
   "metadata": {},
   "outputs": [],
   "source": [
    "# read in from .env file\n",
    "load_dotenv()\n",
    "OPENAI_API_KEY = os.getenv('OPENAI_API_KEY')\n",
    "NEO4J_URL = os.getenv('NEO4J_URL')\n",
    "NEO4J_PASSWORD = os.getenv('NEO4J_PASSWORD')"
   ]
  },
  {
   "cell_type": "markdown",
   "metadata": {},
   "source": [
    "## Load and Explore Data\n",
    "For this example we will use the record of bank failures in the United States. This data is published by the Federal Deposit Insurance Corporation (FDIC) and is available at https://www.fdic.gov/bank/individual/failed/banklist.csv. \n",
    "\n",
    "This data was new to me as I worked on this notebook, so I did not know what it contained or what a potential graph data model might look like. This is a good test for the LLM to see if it can generate a useful graph data model."
   ]
  },
  {
   "cell_type": "code",
   "execution_count": 28,
   "metadata": {},
   "outputs": [
    {
     "data": {
      "text/plain": [
       "(569, 7)"
      ]
     },
     "execution_count": 28,
     "metadata": {},
     "output_type": "execute_result"
    }
   ],
   "source": [
    "# read data directly into a dataframe \n",
    "failedBank_df = pd.read_csv('https://www.fdic.gov/bank/individual/failed/banklist.csv', encoding='ISO-8859-1')\n",
    "failedBank_df.shape"
   ]
  },
  {
   "cell_type": "code",
   "execution_count": 29,
   "metadata": {},
   "outputs": [
    {
     "name": "stdout",
     "output_type": "stream",
     "text": [
      "<class 'pandas.core.frame.DataFrame'>\n",
      "RangeIndex: 569 entries, 0 to 568\n",
      "Data columns (total 7 columns):\n",
      " #   Column                  Non-Null Count  Dtype \n",
      "---  ------                  --------------  ----- \n",
      " 0   Bank Name               569 non-null    object\n",
      " 1   City                    569 non-null    object\n",
      " 2   State                   569 non-null    object\n",
      " 3   Cert                    569 non-null    int64 \n",
      " 4   Acquiring Institution   569 non-null    object\n",
      " 5   Closing Date            569 non-null    object\n",
      " 6   Fund                    569 non-null    int64 \n",
      "dtypes: int64(2), object(5)\n",
      "memory usage: 31.2+ KB\n"
     ]
    }
   ],
   "source": [
    "failedBank_df.info()"
   ]
  },
  {
   "cell_type": "code",
   "execution_count": 30,
   "metadata": {},
   "outputs": [
    {
     "data": {
      "text/html": [
       "<div>\n",
       "<style scoped>\n",
       "    .dataframe tbody tr th:only-of-type {\n",
       "        vertical-align: middle;\n",
       "    }\n",
       "\n",
       "    .dataframe tbody tr th {\n",
       "        vertical-align: top;\n",
       "    }\n",
       "\n",
       "    .dataframe thead th {\n",
       "        text-align: right;\n",
       "    }\n",
       "</style>\n",
       "<table border=\"1\" class=\"dataframe\">\n",
       "  <thead>\n",
       "    <tr style=\"text-align: right;\">\n",
       "      <th></th>\n",
       "      <th>Bank Name</th>\n",
       "      <th>City</th>\n",
       "      <th>State</th>\n",
       "      <th>Cert</th>\n",
       "      <th>Acquiring Institution</th>\n",
       "      <th>Closing Date</th>\n",
       "      <th>Fund</th>\n",
       "    </tr>\n",
       "  </thead>\n",
       "  <tbody>\n",
       "    <tr>\n",
       "      <th>0</th>\n",
       "      <td>Republic First Bank dba Republic Bank</td>\n",
       "      <td>Philadelphia</td>\n",
       "      <td>PA</td>\n",
       "      <td>27332</td>\n",
       "      <td>Fulton Bank, National Association</td>\n",
       "      <td>26-Apr-24</td>\n",
       "      <td>10546</td>\n",
       "    </tr>\n",
       "    <tr>\n",
       "      <th>1</th>\n",
       "      <td>Citizens Bank</td>\n",
       "      <td>Sac City</td>\n",
       "      <td>IA</td>\n",
       "      <td>8758</td>\n",
       "      <td>Iowa Trust &amp; Savings Bank</td>\n",
       "      <td>3-Nov-23</td>\n",
       "      <td>10545</td>\n",
       "    </tr>\n",
       "    <tr>\n",
       "      <th>2</th>\n",
       "      <td>Heartland Tri-State Bank</td>\n",
       "      <td>Elkhart</td>\n",
       "      <td>KS</td>\n",
       "      <td>25851</td>\n",
       "      <td>Dream First Bank, N.A.</td>\n",
       "      <td>28-Jul-23</td>\n",
       "      <td>10544</td>\n",
       "    </tr>\n",
       "    <tr>\n",
       "      <th>3</th>\n",
       "      <td>First Republic Bank</td>\n",
       "      <td>San Francisco</td>\n",
       "      <td>CA</td>\n",
       "      <td>59017</td>\n",
       "      <td>JPMorgan Chase Bank, N.A.</td>\n",
       "      <td>1-May-23</td>\n",
       "      <td>10543</td>\n",
       "    </tr>\n",
       "    <tr>\n",
       "      <th>4</th>\n",
       "      <td>Signature Bank</td>\n",
       "      <td>New York</td>\n",
       "      <td>NY</td>\n",
       "      <td>57053</td>\n",
       "      <td>Flagstar Bank, N.A.</td>\n",
       "      <td>12-Mar-23</td>\n",
       "      <td>10540</td>\n",
       "    </tr>\n",
       "  </tbody>\n",
       "</table>\n",
       "</div>"
      ],
      "text/plain": [
       "                              Bank Name           City  State   Cert   \\\n",
       "0  Republic First Bank dba Republic Bank   Philadelphia     PA  27332   \n",
       "1                          Citizens Bank       Sac City     IA   8758   \n",
       "2               Heartland Tri-State Bank        Elkhart     KS  25851   \n",
       "3                    First Republic Bank  San Francisco     CA  59017   \n",
       "4                         Signature Bank       New York     NY  57053   \n",
       "\n",
       "              Acquiring Institution  Closing Date    Fund  \n",
       "0  Fulton Bank, National Association     26-Apr-24  10546  \n",
       "1          Iowa Trust & Savings Bank      3-Nov-23  10545  \n",
       "2             Dream First Bank, N.A.     28-Jul-23  10544  \n",
       "3          JPMorgan Chase Bank, N.A.      1-May-23  10543  \n",
       "4                Flagstar Bank, N.A.     12-Mar-23  10540  "
      ]
     },
     "execution_count": 30,
     "metadata": {},
     "output_type": "execute_result"
    }
   ],
   "source": [
    "failedBank_df.head()"
   ]
  },
  {
   "cell_type": "markdown",
   "metadata": {},
   "source": [
    "## Preprocess Data\n",
    "The data contained spaces in the column names. Additionally, all data currently needs to be strings to be loaded into the data model, so we will take care of that first. "
   ]
  },
  {
   "cell_type": "code",
   "execution_count": 8,
   "metadata": {},
   "outputs": [
    {
     "data": {
      "text/plain": [
       "Index(['Bank Name', 'City', 'State', 'Cert', 'Acquiring Institution',\n",
       "       'Closing Date', 'Fund'],\n",
       "      dtype='object')"
      ]
     },
     "execution_count": 8,
     "metadata": {},
     "output_type": "execute_result"
    }
   ],
   "source": [
    "# trim whitepace from column names\n",
    "failedBank_df.columns = failedBank_df.columns.str.strip()\n",
    "failedBank_df.columns"
   ]
  },
  {
   "cell_type": "code",
   "execution_count": 9,
   "metadata": {},
   "outputs": [],
   "source": [
    "# convert all columns to strings\n",
    "failedBank_df['Cert'] = failedBank_df['Cert'].astype(str)\n",
    "failedBank_df['Closing Date'] = failedBank_df['Closing Date'].astype(str)\n",
    "failedBank_df['Fund'] = failedBank_df['Fund'].astype(str)"
   ]
  },
  {
   "cell_type": "code",
   "execution_count": 11,
   "metadata": {},
   "outputs": [],
   "source": [
    "# write to .csv \n",
    "failedBank_df.to_csv('data/failedBank.csv', index=False)"
   ]
  },
  {
   "cell_type": "markdown",
   "metadata": {},
   "source": [
    "## Describe Data\n",
    "In this section we need to create a key-value pairs describing the features of our data:\n",
    "* The first entry should be titled 'general_description' and provide a high-level overview of the data. \n",
    "* Each subsequent entry should correspond to a feature in the data. "
   ]
  },
  {
   "cell_type": "code",
   "execution_count": 14,
   "metadata": {},
   "outputs": [],
   "source": [
    "DATA_DESCRIPTION = {\n",
    "    'general_description': 'This dataset provides a list of failed banks in the United States.',\n",
    "    'Bank Name': 'Name of the failed bank.',\n",
    "    'City': 'City where the failed bank was headquartered.',\n",
    "    'State': 'State where the failed bank was headquartered.',\n",
    "    'Cert': 'FDIC certificate number of the failed bank.',\n",
    "    'Acquiring Institution': 'Name of the institution that acquired the failed bank.',\n",
    "    'Closing Date': 'Date that the failed bank closed.',\n",
    "    'Fund': 'FDIC fund number of the failed bank, which acts as a unique identifier in this data set.',\n",
    "}"
   ]
  },
  {
   "cell_type": "markdown",
   "metadata": {},
   "source": [
    "## Analyze Tabular Data with an LLM\n",
    "Before asking the LLM to generate a data model, we will first ask it to analyze the tabular data. This will identify statistical and categorical elements of the data that are important for generating a graph data model."
   ]
  },
  {
   "cell_type": "code",
   "execution_count": 15,
   "metadata": {},
   "outputs": [],
   "source": [
    "# instantiate llm, which defaults to OpenAI GPT-4o\n",
    "llm = LLM()"
   ]
  },
  {
   "cell_type": "code",
   "execution_count": 16,
   "metadata": {},
   "outputs": [
    {
     "data": {
      "text/plain": [
       "'Based on the provided summary of the dataset, here is a preliminary analysis:\\n\\n### Overall Details:\\n1. **Data Size and Structure**:\\n   - The dataset contains 569 entries (rows) and 7 columns.\\n   - All columns are of type `object`, which means they are treated as strings in pandas.\\n\\n2. **Missing Values**:\\n   - There are no missing values in the dataset, as indicated by the non-null count being equal to the total number of entries for each column.\\n\\n3. **Unique Values**:\\n   - The dataset has a mix of columns with high cardinality (many unique values) and columns with lower cardinality (fewer unique values).\\n\\n### Feature Analysis:\\n1. **Bank Name**:\\n   - There are 551 unique bank names out of 569 entries.\\n   - The most frequent bank name is \"The First State Bank,\" which appears 3 times.\\n   - This column is important for identifying individual banks.\\n\\n2. **City**:\\n   - There are 436 unique cities.\\n   - The most frequent city is Chicago, with 20 occurrences.\\n   - This column helps in understanding the geographical distribution of failed banks.\\n\\n3. **State**:\\n   - There are 44 unique states.\\n   - The most frequent state is Georgia (GA), with 93 occurrences.\\n   - This column is crucial for state-level analysis of bank failures.\\n\\n4. **Cert**:\\n   - Each entry has a unique FDIC certificate number (569 unique values).\\n   - This column serves as a unique identifier for each bank and is essential for precise identification.\\n\\n5. **Acquiring Institution**:\\n   - There are 303 unique acquiring institutions.\\n   - The most frequent value is \"No Acquirer,\" which appears 31 times.\\n   - This column is important for understanding the aftermath of bank failures and which institutions are involved in acquisitions.\\n\\n6. **Closing Date**:\\n   - There are 264 unique closing dates.\\n   - The most frequent closing date is \"30-Oct-09,\" with 9 occurrences.\\n   - This column is vital for temporal analysis, such as identifying trends over time.\\n\\n7. **Fund**:\\n   - Each entry has a unique FDIC fund number (569 unique values).\\n   - This column acts as another unique identifier for each bank, similar to the Cert column.\\n\\n### Important Features:\\n1. **Bank Name** and **Cert**:\\n   - Both are critical for identifying individual banks. Cert is particularly important as it is a unique identifier.\\n\\n2. **State** and **City**:\\n   - These columns are essential for geographical analysis, helping to identify patterns and trends in bank failures across different regions.\\n\\n3. **Acquiring Institution**:\\n   - This column provides insights into the institutions that are acquiring failed banks, which can be useful for understanding market dynamics and consolidation trends.\\n\\n4. **Closing Date**:\\n   - This column is crucial for temporal analysis, allowing us to track the frequency and timing of bank failures.\\n\\n5. **Fund**:\\n   - Similar to Cert, this column provides a unique identifier for each bank, ensuring precise identification.\\n\\n### Summary:\\nThe dataset provides a comprehensive overview of failed banks in the United States, with detailed information on their names, locations, unique identifiers, acquiring institutions, and closing dates. The most important features for analysis include the unique identifiers (Cert and Fund), geographical information (State and City), and temporal data (Closing Date). Understanding the distribution and frequency of these features will be key to any further analysis or modeling efforts.'"
      ]
     },
     "execution_count": 16,
     "metadata": {},
     "output_type": "execute_result"
    }
   ],
   "source": [
    "# pass data and descriptions to LLM\n",
    "disc = Discovery(llm=llm, user_input=DATA_DESCRIPTION, data=failedBank_df)\n",
    "disc.run()"
   ]
  },
  {
   "cell_type": "code",
   "execution_count": 14,
   "metadata": {},
   "outputs": [
    {
     "data": {
      "text/markdown": [
       "Based on the provided summary of the dataset, here is a preliminary analysis:\n",
       "\n",
       "### Overall Details:\n",
       "1. **Data Size and Structure**:\n",
       "   - The dataset contains 569 entries and 7 columns.\n",
       "   - All columns are of type `object`, indicating that they are likely categorical or string data.\n",
       "\n",
       "2. **Missing Values**:\n",
       "   - There are no missing values in the dataset, as all columns have 569 non-null entries.\n",
       "\n",
       "3. **Unique Values**:\n",
       "   - The dataset has a mix of columns with high and low cardinality (number of unique values).\n",
       "\n",
       "### Feature Analysis:\n",
       "1. **Bank Name**:\n",
       "   - There are 551 unique bank names out of 569 entries.\n",
       "   - The most frequent bank name is \"The First State Bank,\" appearing 3 times.\n",
       "   - This feature is important for identifying individual banks.\n",
       "\n",
       "2. **City**:\n",
       "   - There are 436 unique cities.\n",
       "   - The most frequent city is Chicago, with 20 occurrences.\n",
       "   - This feature can help in geographical analysis of bank failures.\n",
       "\n",
       "3. **State**:\n",
       "   - There are 44 unique states.\n",
       "   - The most frequent state is Georgia (GA), with 93 occurrences.\n",
       "   - This feature is crucial for state-level analysis of bank failures.\n",
       "\n",
       "4. **Cert**:\n",
       "   - Each entry has a unique FDIC certificate number (569 unique values).\n",
       "   - This feature acts as a unique identifier for each bank and is essential for precise identification.\n",
       "\n",
       "5. **Acquiring Institution**:\n",
       "   - There are 303 unique acquiring institutions.\n",
       "   - The most frequent value is \"No Acquirer,\" appearing 31 times.\n",
       "   - This feature is important for understanding the aftermath of bank failures and the institutions involved in acquisitions.\n",
       "\n",
       "6. **Closing Date**:\n",
       "   - There are 264 unique closing dates.\n",
       "   - The most frequent closing date is \"30-Oct-09,\" with 9 occurrences.\n",
       "   - This feature is important for temporal analysis and understanding trends over time.\n",
       "\n",
       "7. **Fund**:\n",
       "   - Each entry has a unique FDIC fund number (569 unique values).\n",
       "   - This feature acts as another unique identifier and is crucial for precise identification.\n",
       "\n",
       "### Important Features:\n",
       "1. **Bank Name** and **Cert**:\n",
       "   - Both are critical for identifying individual banks. \"Cert\" is particularly important as it is unique for each bank.\n",
       "\n",
       "2. **State** and **City**:\n",
       "   - These features are important for geographical analysis and understanding regional patterns in bank failures.\n",
       "\n",
       "3. **Acquiring Institution**:\n",
       "   - This feature provides insights into the institutions involved in acquiring failed banks, which can be important for understanding the market dynamics and consolidation trends.\n",
       "\n",
       "4. **Closing Date**:\n",
       "   - This feature is essential for temporal analysis, helping to identify trends and patterns over time.\n",
       "\n",
       "5. **Fund**:\n",
       "   - Acts as a unique identifier, similar to \"Cert,\" and is important for precise identification.\n",
       "\n",
       "### Summary:\n",
       "The dataset provides a comprehensive overview of failed banks in the United States, with detailed information on their names, locations, acquisition details, and closing dates. The most important features for analysis include \"Bank Name,\" \"Cert,\" \"State,\" \"City,\" \"Acquiring Institution,\" and \"Closing Date.\" These features will be crucial for any further analysis, including geographical, temporal, and market dynamics studies."
      ],
      "text/plain": [
       "<IPython.core.display.Markdown object>"
      ]
     },
     "metadata": {},
     "output_type": "display_data"
    }
   ],
   "source": [
    "print_markdown(disc.discovery)"
   ]
  },
  {
   "cell_type": "markdown",
   "metadata": {},
   "source": [
    "## Use LLM to Create Initial Data Model\n",
    "Now that we have analyzed the statistical and categorical features of the data, we can have the LLM generate an initial data model. This initial data model will point is in the right direction, but is unlikely to be perfect. That is perfectly fine because we can continue iterating it using the LLM and then once we have the data in Neo4j. The objective is to get from the tabular data to the start of a graph data model as quickly as possible.\n",
    "\n",
    "*Note: As of version 0.41 Neo4j Runway uses graphviz, which requires the graphviz package to be installed locally as well as in the Python environment.* "
   ]
  },
  {
   "cell_type": "code",
   "execution_count": 20,
   "metadata": {},
   "outputs": [
    {
     "name": "stdout",
     "output_type": "stream",
     "text": [
      "recieved a valid response\n"
     ]
    },
    {
     "data": {
      "text/plain": [
       "DataModel(nodes=[Node(label='Bank', properties=[Property(name='bankName', type='str', csv_mapping='Bank Name', csv_mapping_other=None, is_unique=True, part_of_key=False), Property(name='cert', type='str', csv_mapping='Cert', csv_mapping_other=None, is_unique=False, part_of_key=False)], csv_name=''), Node(label='Location', properties=[Property(name='city', type='str', csv_mapping='City', csv_mapping_other=None, is_unique=False, part_of_key=False), Property(name='state', type='str', csv_mapping='State', csv_mapping_other=None, is_unique=False, part_of_key=False)], csv_name=''), Node(label='AcquiringInstitution', properties=[Property(name='acquiringInstitution', type='str', csv_mapping='Acquiring Institution', csv_mapping_other=None, is_unique=True, part_of_key=False)], csv_name=''), Node(label='Closure', properties=[Property(name='closingDate', type='str', csv_mapping='Closing Date', csv_mapping_other=None, is_unique=False, part_of_key=False), Property(name='fund', type='str', csv_mapping='Fund', csv_mapping_other=None, is_unique=True, part_of_key=False)], csv_name='')], relationships=[Relationship(type='LOCATED_IN', properties=[], source='Bank', target='Location', csv_name=''), Relationship(type='ACQUIRED_BY', properties=[], source='Bank', target='AcquiringInstitution', csv_name=''), Relationship(type='CLOSED_ON', properties=[], source='Bank', target='Closure', csv_name='')])"
      ]
     },
     "execution_count": 20,
     "metadata": {},
     "output_type": "execute_result"
    }
   ],
   "source": [
    "# instantiate graph data modeler \n",
    "gdm = GraphDataModeler(llm=llm, discovery=disc)\n",
    "\n",
    "# generate model \n",
    "gdm.create_initial_model()"
   ]
  },
  {
   "cell_type": "code",
   "execution_count": 21,
   "metadata": {},
   "outputs": [
    {
     "data": {
      "image/svg+xml": [
       "<?xml version=\"1.0\" encoding=\"UTF-8\" standalone=\"no\"?>\n",
       "<!DOCTYPE svg PUBLIC \"-//W3C//DTD SVG 1.1//EN\"\n",
       " \"http://www.w3.org/Graphics/SVG/1.1/DTD/svg11.dtd\">\n",
       "<!-- Generated by graphviz version 11.0.0 (20240428.1522)\n",
       " -->\n",
       "<!-- Pages: 1 -->\n",
       "<svg width=\"796pt\" height=\"315pt\"\n",
       " viewBox=\"0.00 0.00 795.82 315.06\" xmlns=\"http://www.w3.org/2000/svg\" xmlns:xlink=\"http://www.w3.org/1999/xlink\">\n",
       "<g id=\"graph0\" class=\"graph\" transform=\"scale(1 1) rotate(0) translate(4 311.06)\">\n",
       "<polygon fill=\"white\" stroke=\"none\" points=\"-4,4 -4,-311.06 791.82,-311.06 791.82,4 -4,4\"/>\n",
       "<!-- Bank -->\n",
       "<g id=\"node1\" class=\"node\">\n",
       "<title>Bank</title>\n",
       "<ellipse fill=\"none\" stroke=\"black\" cx=\"334.21\" cy=\"-243.42\" rx=\"142.84\" ry=\"63.64\"/>\n",
       "<text text-anchor=\"middle\" x=\"334.21\" y=\"-271.12\" font-family=\"Times,serif\" font-size=\"14.00\">Bank</text>\n",
       "<text text-anchor=\"middle\" x=\"334.21\" y=\"-238.62\" font-family=\"Times,serif\" font-size=\"14.00\">properties:</text>\n",
       "<text text-anchor=\"middle\" x=\"334.21\" y=\"-222.12\" font-family=\"Times,serif\" font-size=\"14.00\">bankName: Bank Name *unique*</text>\n",
       "<text text-anchor=\"middle\" x=\"334.21\" y=\"-205.62\" font-family=\"Times,serif\" font-size=\"14.00\">cert: Cert</text>\n",
       "</g>\n",
       "<!-- Location -->\n",
       "<g id=\"node2\" class=\"node\">\n",
       "<title>Location</title>\n",
       "<ellipse fill=\"none\" stroke=\"black\" cx=\"53.21\" cy=\"-63.64\" rx=\"53.21\" ry=\"63.64\"/>\n",
       "<text text-anchor=\"middle\" x=\"53.21\" y=\"-91.34\" font-family=\"Times,serif\" font-size=\"14.00\">Location</text>\n",
       "<text text-anchor=\"middle\" x=\"53.21\" y=\"-58.84\" font-family=\"Times,serif\" font-size=\"14.00\">properties:</text>\n",
       "<text text-anchor=\"middle\" x=\"53.21\" y=\"-42.34\" font-family=\"Times,serif\" font-size=\"14.00\">city: City</text>\n",
       "<text text-anchor=\"middle\" x=\"53.21\" y=\"-25.84\" font-family=\"Times,serif\" font-size=\"14.00\">state: State</text>\n",
       "</g>\n",
       "<!-- Bank&#45;&gt;Location -->\n",
       "<g id=\"edge1\" class=\"edge\">\n",
       "<title>Bank&#45;&gt;Location</title>\n",
       "<path fill=\"none\" stroke=\"black\" d=\"M233.9,-197.78C195.23,-178.54 151.63,-154.24 115.21,-127.28 110.29,-123.64 105.4,-119.6 100.64,-115.39\"/>\n",
       "<polygon fill=\"black\" stroke=\"black\" points=\"103.08,-112.88 93.35,-108.68 98.34,-118.03 103.08,-112.88\"/>\n",
       "<text text-anchor=\"middle\" x=\"207.46\" y=\"-148.48\" font-family=\"Times,serif\" font-size=\"14.00\">LOCATED_IN</text>\n",
       "</g>\n",
       "<!-- AcquiringInstitution -->\n",
       "<g id=\"node3\" class=\"node\">\n",
       "<title>AcquiringInstitution</title>\n",
       "<ellipse fill=\"none\" stroke=\"black\" cx=\"334.21\" cy=\"-63.64\" rx=\"210.19\" ry=\"51.97\"/>\n",
       "<text text-anchor=\"middle\" x=\"334.21\" y=\"-83.09\" font-family=\"Times,serif\" font-size=\"14.00\">AcquiringInstitution</text>\n",
       "<text text-anchor=\"middle\" x=\"334.21\" y=\"-50.59\" font-family=\"Times,serif\" font-size=\"14.00\">properties:</text>\n",
       "<text text-anchor=\"middle\" x=\"334.21\" y=\"-34.09\" font-family=\"Times,serif\" font-size=\"14.00\">acquiringInstitution: Acquiring Institution *unique*</text>\n",
       "</g>\n",
       "<!-- Bank&#45;&gt;AcquiringInstitution -->\n",
       "<g id=\"edge2\" class=\"edge\">\n",
       "<title>Bank&#45;&gt;AcquiringInstitution</title>\n",
       "<path fill=\"none\" stroke=\"black\" d=\"M334.21,-179.49C334.21,-162.61 334.21,-144.36 334.21,-127.48\"/>\n",
       "<polygon fill=\"black\" stroke=\"black\" points=\"337.71,-127.57 334.21,-117.57 330.71,-127.57 337.71,-127.57\"/>\n",
       "<text text-anchor=\"middle\" x=\"381.83\" y=\"-148.48\" font-family=\"Times,serif\" font-size=\"14.00\">ACQUIRED_BY</text>\n",
       "</g>\n",
       "<!-- Closure -->\n",
       "<g id=\"node4\" class=\"node\">\n",
       "<title>Closure</title>\n",
       "<ellipse fill=\"none\" stroke=\"black\" cx=\"675.21\" cy=\"-63.64\" rx=\"112.61\" ry=\"63.64\"/>\n",
       "<text text-anchor=\"middle\" x=\"675.21\" y=\"-91.34\" font-family=\"Times,serif\" font-size=\"14.00\">Closure</text>\n",
       "<text text-anchor=\"middle\" x=\"675.21\" y=\"-58.84\" font-family=\"Times,serif\" font-size=\"14.00\">properties:</text>\n",
       "<text text-anchor=\"middle\" x=\"675.21\" y=\"-42.34\" font-family=\"Times,serif\" font-size=\"14.00\">closingDate: Closing Date</text>\n",
       "<text text-anchor=\"middle\" x=\"675.21\" y=\"-25.84\" font-family=\"Times,serif\" font-size=\"14.00\">fund: Fund *unique*</text>\n",
       "</g>\n",
       "<!-- Bank&#45;&gt;Closure -->\n",
       "<g id=\"edge3\" class=\"edge\">\n",
       "<title>Bank&#45;&gt;Closure</title>\n",
       "<path fill=\"none\" stroke=\"black\" d=\"M426.04,-194.54C474.57,-169.24 533.98,-138.27 582.62,-112.91\"/>\n",
       "<polygon fill=\"black\" stroke=\"black\" points=\"584.24,-116.01 591.49,-108.29 581,-109.81 584.24,-116.01\"/>\n",
       "<text text-anchor=\"middle\" x=\"553.58\" y=\"-148.48\" font-family=\"Times,serif\" font-size=\"14.00\">CLOSED_ON</text>\n",
       "</g>\n",
       "</g>\n",
       "</svg>\n"
      ],
      "text/plain": [
       "<graphviz.graphs.Digraph at 0x13849ab40>"
      ]
     },
     "execution_count": 21,
     "metadata": {},
     "output_type": "execute_result"
    }
   ],
   "source": [
    "# visualize the data model\n",
    "gdm.current_model.visualize()"
   ]
  },
  {
   "cell_type": "markdown",
   "metadata": {},
   "source": [
    "## Iterate the Data Model \n",
    "Once we see the initial model we can suggest corrections. It is a best practice to make these suggestions as clear and direct as possible."
   ]
  },
  {
   "cell_type": "code",
   "execution_count": 22,
   "metadata": {},
   "outputs": [
    {
     "name": "stdout",
     "output_type": "stream",
     "text": [
      "recieved a valid response\n"
     ]
    },
    {
     "data": {
      "image/svg+xml": [
       "<?xml version=\"1.0\" encoding=\"UTF-8\" standalone=\"no\"?>\n",
       "<!DOCTYPE svg PUBLIC \"-//W3C//DTD SVG 1.1//EN\"\n",
       " \"http://www.w3.org/Graphics/SVG/1.1/DTD/svg11.dtd\">\n",
       "<!-- Generated by graphviz version 11.0.0 (20240428.1522)\n",
       " -->\n",
       "<!-- Pages: 1 -->\n",
       "<svg width=\"624pt\" height=\"497pt\"\n",
       " viewBox=\"0.00 0.00 623.58 497.17\" xmlns=\"http://www.w3.org/2000/svg\" xmlns:xlink=\"http://www.w3.org/1999/xlink\">\n",
       "<g id=\"graph0\" class=\"graph\" transform=\"scale(1 1) rotate(0) translate(4 493.17)\">\n",
       "<polygon fill=\"white\" stroke=\"none\" points=\"-4,4 -4,-493.17 619.58,-493.17 619.58,4 -4,4\"/>\n",
       "<!-- Bank -->\n",
       "<g id=\"node1\" class=\"node\">\n",
       "<title>Bank</title>\n",
       "<ellipse fill=\"none\" stroke=\"black\" cx=\"248.39\" cy=\"-425.53\" rx=\"142.84\" ry=\"63.64\"/>\n",
       "<text text-anchor=\"middle\" x=\"248.39\" y=\"-453.23\" font-family=\"Times,serif\" font-size=\"14.00\">Bank</text>\n",
       "<text text-anchor=\"middle\" x=\"248.39\" y=\"-420.73\" font-family=\"Times,serif\" font-size=\"14.00\">properties:</text>\n",
       "<text text-anchor=\"middle\" x=\"248.39\" y=\"-404.23\" font-family=\"Times,serif\" font-size=\"14.00\">bankName: Bank Name *unique*</text>\n",
       "<text text-anchor=\"middle\" x=\"248.39\" y=\"-387.73\" font-family=\"Times,serif\" font-size=\"14.00\">cert: Cert</text>\n",
       "</g>\n",
       "<!-- City -->\n",
       "<g id=\"node2\" class=\"node\">\n",
       "<title>City</title>\n",
       "<ellipse fill=\"none\" stroke=\"black\" cx=\"91.39\" cy=\"-208.42\" rx=\"85.56\" ry=\"51.97\"/>\n",
       "<text text-anchor=\"middle\" x=\"91.39\" y=\"-227.87\" font-family=\"Times,serif\" font-size=\"14.00\">City</text>\n",
       "<text text-anchor=\"middle\" x=\"91.39\" y=\"-195.37\" font-family=\"Times,serif\" font-size=\"14.00\">properties:</text>\n",
       "<text text-anchor=\"middle\" x=\"91.39\" y=\"-178.87\" font-family=\"Times,serif\" font-size=\"14.00\">city: City *unique*</text>\n",
       "</g>\n",
       "<!-- Bank&#45;&gt;City -->\n",
       "<g id=\"edge1\" class=\"edge\">\n",
       "<title>Bank&#45;&gt;City</title>\n",
       "<path fill=\"none\" stroke=\"black\" d=\"M204.66,-364.61C182.05,-333.63 154.61,-296.04 132.41,-265.61\"/>\n",
       "<polygon fill=\"black\" stroke=\"black\" points=\"135.31,-263.65 126.59,-257.64 129.66,-267.78 135.31,-263.65\"/>\n",
       "<text text-anchor=\"middle\" x=\"215.64\" y=\"-306.09\" font-family=\"Times,serif\" font-size=\"14.00\">IN_CITY</text>\n",
       "</g>\n",
       "<!-- AcquiringInstitution -->\n",
       "<g id=\"node4\" class=\"node\">\n",
       "<title>AcquiringInstitution</title>\n",
       "<ellipse fill=\"none\" stroke=\"black\" cx=\"405.39\" cy=\"-208.42\" rx=\"210.19\" ry=\"51.97\"/>\n",
       "<text text-anchor=\"middle\" x=\"405.39\" y=\"-227.87\" font-family=\"Times,serif\" font-size=\"14.00\">AcquiringInstitution</text>\n",
       "<text text-anchor=\"middle\" x=\"405.39\" y=\"-195.37\" font-family=\"Times,serif\" font-size=\"14.00\">properties:</text>\n",
       "<text text-anchor=\"middle\" x=\"405.39\" y=\"-178.87\" font-family=\"Times,serif\" font-size=\"14.00\">acquiringInstitution: Acquiring Institution *unique*</text>\n",
       "</g>\n",
       "<!-- Bank&#45;&gt;AcquiringInstitution -->\n",
       "<g id=\"edge3\" class=\"edge\">\n",
       "<title>Bank&#45;&gt;AcquiringInstitution</title>\n",
       "<path fill=\"none\" stroke=\"black\" d=\"M292.13,-364.61C313.92,-334.75 340.19,-298.76 361.94,-268.96\"/>\n",
       "<polygon fill=\"black\" stroke=\"black\" points=\"364.57,-271.28 367.64,-261.14 358.92,-267.16 364.57,-271.28\"/>\n",
       "<text text-anchor=\"middle\" x=\"426.02\" y=\"-330.59\" font-family=\"Times,serif\" font-size=\"14.00\">ACQUIRED_BY</text>\n",
       "<text text-anchor=\"middle\" x=\"426.02\" y=\"-298.09\" font-family=\"Times,serif\" font-size=\"14.00\">properties:</text>\n",
       "<text text-anchor=\"middle\" x=\"426.02\" y=\"-281.59\" font-family=\"Times,serif\" font-size=\"14.00\">closingDate: Closing Date</text>\n",
       "</g>\n",
       "<!-- State -->\n",
       "<g id=\"node3\" class=\"node\">\n",
       "<title>State</title>\n",
       "<ellipse fill=\"none\" stroke=\"black\" cx=\"91.39\" cy=\"-51.97\" rx=\"91.39\" ry=\"51.97\"/>\n",
       "<text text-anchor=\"middle\" x=\"91.39\" y=\"-71.42\" font-family=\"Times,serif\" font-size=\"14.00\">State</text>\n",
       "<text text-anchor=\"middle\" x=\"91.39\" y=\"-38.92\" font-family=\"Times,serif\" font-size=\"14.00\">properties:</text>\n",
       "<text text-anchor=\"middle\" x=\"91.39\" y=\"-22.42\" font-family=\"Times,serif\" font-size=\"14.00\">state: State *unique*</text>\n",
       "</g>\n",
       "<!-- City&#45;&gt;State -->\n",
       "<g id=\"edge2\" class=\"edge\">\n",
       "<title>City&#45;&gt;State</title>\n",
       "<path fill=\"none\" stroke=\"black\" d=\"M91.39,-155.99C91.39,-143.16 91.39,-129.26 91.39,-115.95\"/>\n",
       "<polygon fill=\"black\" stroke=\"black\" points=\"94.89,-115.95 91.39,-105.95 87.89,-115.95 94.89,-115.95\"/>\n",
       "<text text-anchor=\"middle\" x=\"122.14\" y=\"-125.14\" font-family=\"Times,serif\" font-size=\"14.00\">IN_STATE</text>\n",
       "</g>\n",
       "</g>\n",
       "</svg>\n"
      ],
      "text/plain": [
       "<graphviz.graphs.Digraph at 0x13847ee10>"
      ]
     },
     "execution_count": 22,
     "metadata": {},
     "output_type": "execute_result"
    }
   ],
   "source": [
    "gdm.iterate_model(user_corrections='''\n",
    "This is a good start. Please make the following updates to the data model:\n",
    "1. Remove the Closure node from the data model. Add the closingDate property to the ACQUIRED_BY relationship. We will discard Fund and not use it.\n",
    "2. Change the Location node to be a City node, with the property city which must be unique.\n",
    "3. Change the LOCATED_IN relationship to be named IN_CITY. It will originate from the Bank node and connect to the City node.\n",
    "4. Make State its own node with the property state, which must be unique. \n",
    "5. Add an IN_STATE relationship to the graph. It will originate from the City node and connect to the State node.\n",
    "''')\n",
    "\n",
    "# visualize the updated data model\n",
    "gdm.current_model.visualize()"
   ]
  },
  {
   "cell_type": "markdown",
   "metadata": {},
   "source": [
    "## Generate Ingestion Code\n",
    "Once we have a graph data model that we are happy with, we can generate the Cypher code and YAML file to load the data into Neo4j."
   ]
  },
  {
   "cell_type": "code",
   "execution_count": 23,
   "metadata": {},
   "outputs": [],
   "source": [
    "# instantiate ingestion generator\n",
    "gen = IngestionGenerator(data_model=gdm.current_model, \n",
    "                         username=\"neo4j\", \n",
    "                         password=NEO4J_PASSWORD,\n",
    "                         uri=NEO4J_URL,\n",
    "                         database=\"neo4j\", \n",
    "                         csv_dir=\"data/\", \n",
    "                         csv_name=\"failedBank.csv\")\n"
   ]
  },
  {
   "cell_type": "code",
   "execution_count": 26,
   "metadata": {},
   "outputs": [],
   "source": [
    "# create ingestion YAML \n",
    "pyingest_yaml = gen.generate_pyingest_yaml_string()\n",
    "\n",
    "# print(pyingest_yaml)"
   ]
  },
  {
   "cell_type": "code",
   "execution_count": 27,
   "metadata": {},
   "outputs": [],
   "source": [
    "# save local copy of YAML\n",
    "gen.generate_pyingest_yaml_file(file_name=\"failedBanks\")\n"
   ]
  },
  {
   "cell_type": "markdown",
   "metadata": {},
   "source": [
    "## Load Data into Neo4j \n",
    "The last step is to load the data into Neo4j. From there we can explore the data in Neo4j itself or by using one of the Neo4j Python connectors. "
   ]
  },
  {
   "cell_type": "code",
   "execution_count": 25,
   "metadata": {},
   "outputs": [
    {
     "name": "stdout",
     "output_type": "stream",
     "text": [
      "File {} .//data/failedBank.csv\n",
      "loading... 0 2024-06-12 14:28:14.301519\n"
     ]
    },
    {
     "name": "stderr",
     "output_type": "stream",
     "text": [
      "/opt/anaconda3/envs/llm/lib/python3.12/site-packages/numpy/core/fromnumeric.py:59: FutureWarning: 'DataFrame.swapaxes' is deprecated and will be removed in a future version. Please use 'DataFrame.transpose' instead.\n",
      "  return bound(*args, **kwds)\n"
     ]
    },
    {
     "name": "stdout",
     "output_type": "stream",
     "text": [
      "loading... 1 2024-06-12 14:28:14.522532\n",
      "loading... 2 2024-06-12 14:28:14.645311\n",
      "loading... 3 2024-06-12 14:28:14.751105\n",
      "loading... 4 2024-06-12 14:28:14.848752\n",
      "{} : Completed file 2024-06-12 14:28:14.946076\n",
      "File {} .//data/failedBank.csv\n",
      "loading... 0 2024-06-12 14:28:14.947898\n",
      "loading... 1 2024-06-12 14:28:15.123889\n"
     ]
    },
    {
     "name": "stderr",
     "output_type": "stream",
     "text": [
      "/opt/anaconda3/envs/llm/lib/python3.12/site-packages/numpy/core/fromnumeric.py:59: FutureWarning: 'DataFrame.swapaxes' is deprecated and will be removed in a future version. Please use 'DataFrame.transpose' instead.\n",
      "  return bound(*args, **kwds)\n"
     ]
    },
    {
     "name": "stdout",
     "output_type": "stream",
     "text": [
      "loading... 2 2024-06-12 14:28:15.237596\n",
      "loading... 3 2024-06-12 14:28:15.323707\n",
      "loading... 4 2024-06-12 14:28:15.414296\n",
      "{} : Completed file 2024-06-12 14:28:15.493120\n",
      "File {} .//data/failedBank.csv\n",
      "loading... 0 2024-06-12 14:28:15.495728\n",
      "loading... 1 2024-06-12 14:28:15.645882\n"
     ]
    },
    {
     "name": "stderr",
     "output_type": "stream",
     "text": [
      "/opt/anaconda3/envs/llm/lib/python3.12/site-packages/numpy/core/fromnumeric.py:59: FutureWarning: 'DataFrame.swapaxes' is deprecated and will be removed in a future version. Please use 'DataFrame.transpose' instead.\n",
      "  return bound(*args, **kwds)\n"
     ]
    },
    {
     "name": "stdout",
     "output_type": "stream",
     "text": [
      "loading... 2 2024-06-12 14:28:15.723272\n",
      "loading... 3 2024-06-12 14:28:15.800584\n",
      "loading... 4 2024-06-12 14:28:15.874852\n",
      "{} : Completed file 2024-06-12 14:28:15.949498\n",
      "File {} .//data/failedBank.csv\n",
      "loading... 0 2024-06-12 14:28:15.951495\n",
      "loading... 1 2024-06-12 14:28:16.082499\n"
     ]
    },
    {
     "name": "stderr",
     "output_type": "stream",
     "text": [
      "/opt/anaconda3/envs/llm/lib/python3.12/site-packages/numpy/core/fromnumeric.py:59: FutureWarning: 'DataFrame.swapaxes' is deprecated and will be removed in a future version. Please use 'DataFrame.transpose' instead.\n",
      "  return bound(*args, **kwds)\n"
     ]
    },
    {
     "name": "stdout",
     "output_type": "stream",
     "text": [
      "loading... 2 2024-06-12 14:28:16.160348\n",
      "loading... 3 2024-06-12 14:28:16.238493\n",
      "loading... 4 2024-06-12 14:28:16.319103\n",
      "{} : Completed file 2024-06-12 14:28:16.396003\n",
      "File {} .//data/failedBank.csv\n",
      "loading... 0 2024-06-12 14:28:16.398105\n"
     ]
    },
    {
     "name": "stderr",
     "output_type": "stream",
     "text": [
      "/opt/anaconda3/envs/llm/lib/python3.12/site-packages/numpy/core/fromnumeric.py:59: FutureWarning: 'DataFrame.swapaxes' is deprecated and will be removed in a future version. Please use 'DataFrame.transpose' instead.\n",
      "  return bound(*args, **kwds)\n"
     ]
    },
    {
     "name": "stdout",
     "output_type": "stream",
     "text": [
      "loading... 1 2024-06-12 14:28:16.631287\n",
      "loading... 2 2024-06-12 14:28:16.777422\n",
      "loading... 3 2024-06-12 14:28:16.883538\n",
      "loading... 4 2024-06-12 14:28:16.973758\n",
      "{} : Completed file 2024-06-12 14:28:17.058690\n",
      "File {} .//data/failedBank.csv\n",
      "loading... 0 2024-06-12 14:28:17.060160\n",
      "loading... 1 2024-06-12 14:28:17.240423\n"
     ]
    },
    {
     "name": "stderr",
     "output_type": "stream",
     "text": [
      "/opt/anaconda3/envs/llm/lib/python3.12/site-packages/numpy/core/fromnumeric.py:59: FutureWarning: 'DataFrame.swapaxes' is deprecated and will be removed in a future version. Please use 'DataFrame.transpose' instead.\n",
      "  return bound(*args, **kwds)\n"
     ]
    },
    {
     "name": "stdout",
     "output_type": "stream",
     "text": [
      "loading... 2 2024-06-12 14:28:17.335698\n",
      "loading... 3 2024-06-12 14:28:17.414711\n",
      "loading... 4 2024-06-12 14:28:17.495998\n",
      "{} : Completed file 2024-06-12 14:28:17.583840\n",
      "File {} .//data/failedBank.csv\n",
      "loading... 0 2024-06-12 14:28:17.586211\n",
      "loading... 1 2024-06-12 14:28:17.740729\n"
     ]
    },
    {
     "name": "stderr",
     "output_type": "stream",
     "text": [
      "/opt/anaconda3/envs/llm/lib/python3.12/site-packages/numpy/core/fromnumeric.py:59: FutureWarning: 'DataFrame.swapaxes' is deprecated and will be removed in a future version. Please use 'DataFrame.transpose' instead.\n",
      "  return bound(*args, **kwds)\n"
     ]
    },
    {
     "name": "stdout",
     "output_type": "stream",
     "text": [
      "loading... 2 2024-06-12 14:28:17.834014\n",
      "loading... 3 2024-06-12 14:28:17.927048\n",
      "loading... 4 2024-06-12 14:28:18.020775\n",
      "{} : Completed file 2024-06-12 14:28:18.110221\n"
     ]
    }
   ],
   "source": [
    "PyIngest(yaml_string=pyingest_yaml, dataframe=failedBank_df)"
   ]
  },
  {
   "cell_type": "markdown",
   "metadata": {},
   "source": [
    "## Conclusion\n",
    "In this notebook we demonstrated how to use Neo4j Runway to explore a new tabular dataset, generate a graph data model, and load the data into Neo4j. This process is designed to be iterative and to get you from tabular data to a working graph database as quickly as possible.\n",
    "\n",
    "Neo4j Runway is an open source project under active development and we welcome contributions and feedback."
   ]
  },
  {
   "cell_type": "code",
   "execution_count": null,
   "metadata": {},
   "outputs": [],
   "source": []
  }
 ],
 "metadata": {
  "kernelspec": {
   "display_name": "llm",
   "language": "python",
   "name": "python3"
  },
  "language_info": {
   "codemirror_mode": {
    "name": "ipython",
    "version": 3
   },
   "file_extension": ".py",
   "mimetype": "text/x-python",
   "name": "python",
   "nbconvert_exporter": "python",
   "pygments_lexer": "ipython3",
   "version": "3.12.3"
  }
 },
 "nbformat": 4,
 "nbformat_minor": 2
}
